{
 "cells": [
  {
   "cell_type": "code",
   "execution_count": 1,
   "id": "f56be2a9",
   "metadata": {},
   "outputs": [],
   "source": [
    "import pandas as pd\n",
    "import numpy as np"
   ]
  },
  {
   "cell_type": "code",
   "execution_count": 2,
   "id": "181b85a0",
   "metadata": {},
   "outputs": [],
   "source": [
    "url = \"https://archive.ics.uci.edu/ml/machine-learning-databases/iris/iris.data\"\n",
    "names = ['sepal-length', 'sepal-width', 'petal-length', 'petal-width', 'Class']\n",
    "dataset = pd.read_csv(url, names=names)"
   ]
  },
  {
   "cell_type": "code",
   "execution_count": 4,
   "id": "f52c2690",
   "metadata": {},
   "outputs": [
    {
     "data": {
      "text/html": [
       "<div>\n",
       "<style scoped>\n",
       "    .dataframe tbody tr th:only-of-type {\n",
       "        vertical-align: middle;\n",
       "    }\n",
       "\n",
       "    .dataframe tbody tr th {\n",
       "        vertical-align: top;\n",
       "    }\n",
       "\n",
       "    .dataframe thead th {\n",
       "        text-align: right;\n",
       "    }\n",
       "</style>\n",
       "<table border=\"1\" class=\"dataframe\">\n",
       "  <thead>\n",
       "    <tr style=\"text-align: right;\">\n",
       "      <th></th>\n",
       "      <th>sepal-length</th>\n",
       "      <th>sepal-width</th>\n",
       "      <th>petal-length</th>\n",
       "      <th>petal-width</th>\n",
       "      <th>Class</th>\n",
       "    </tr>\n",
       "  </thead>\n",
       "  <tbody>\n",
       "    <tr>\n",
       "      <th>0</th>\n",
       "      <td>5.1</td>\n",
       "      <td>3.5</td>\n",
       "      <td>1.4</td>\n",
       "      <td>0.2</td>\n",
       "      <td>Iris-setosa</td>\n",
       "    </tr>\n",
       "    <tr>\n",
       "      <th>1</th>\n",
       "      <td>4.9</td>\n",
       "      <td>3.0</td>\n",
       "      <td>1.4</td>\n",
       "      <td>0.2</td>\n",
       "      <td>Iris-setosa</td>\n",
       "    </tr>\n",
       "    <tr>\n",
       "      <th>2</th>\n",
       "      <td>4.7</td>\n",
       "      <td>3.2</td>\n",
       "      <td>1.3</td>\n",
       "      <td>0.2</td>\n",
       "      <td>Iris-setosa</td>\n",
       "    </tr>\n",
       "    <tr>\n",
       "      <th>3</th>\n",
       "      <td>4.6</td>\n",
       "      <td>3.1</td>\n",
       "      <td>1.5</td>\n",
       "      <td>0.2</td>\n",
       "      <td>Iris-setosa</td>\n",
       "    </tr>\n",
       "    <tr>\n",
       "      <th>4</th>\n",
       "      <td>5.0</td>\n",
       "      <td>3.6</td>\n",
       "      <td>1.4</td>\n",
       "      <td>0.2</td>\n",
       "      <td>Iris-setosa</td>\n",
       "    </tr>\n",
       "    <tr>\n",
       "      <th>...</th>\n",
       "      <td>...</td>\n",
       "      <td>...</td>\n",
       "      <td>...</td>\n",
       "      <td>...</td>\n",
       "      <td>...</td>\n",
       "    </tr>\n",
       "    <tr>\n",
       "      <th>145</th>\n",
       "      <td>6.7</td>\n",
       "      <td>3.0</td>\n",
       "      <td>5.2</td>\n",
       "      <td>2.3</td>\n",
       "      <td>Iris-virginica</td>\n",
       "    </tr>\n",
       "    <tr>\n",
       "      <th>146</th>\n",
       "      <td>6.3</td>\n",
       "      <td>2.5</td>\n",
       "      <td>5.0</td>\n",
       "      <td>1.9</td>\n",
       "      <td>Iris-virginica</td>\n",
       "    </tr>\n",
       "    <tr>\n",
       "      <th>147</th>\n",
       "      <td>6.5</td>\n",
       "      <td>3.0</td>\n",
       "      <td>5.2</td>\n",
       "      <td>2.0</td>\n",
       "      <td>Iris-virginica</td>\n",
       "    </tr>\n",
       "    <tr>\n",
       "      <th>148</th>\n",
       "      <td>6.2</td>\n",
       "      <td>3.4</td>\n",
       "      <td>5.4</td>\n",
       "      <td>2.3</td>\n",
       "      <td>Iris-virginica</td>\n",
       "    </tr>\n",
       "    <tr>\n",
       "      <th>149</th>\n",
       "      <td>5.9</td>\n",
       "      <td>3.0</td>\n",
       "      <td>5.1</td>\n",
       "      <td>1.8</td>\n",
       "      <td>Iris-virginica</td>\n",
       "    </tr>\n",
       "  </tbody>\n",
       "</table>\n",
       "<p>150 rows × 5 columns</p>\n",
       "</div>"
      ],
      "text/plain": [
       "     sepal-length  sepal-width  petal-length  petal-width           Class\n",
       "0             5.1          3.5           1.4          0.2     Iris-setosa\n",
       "1             4.9          3.0           1.4          0.2     Iris-setosa\n",
       "2             4.7          3.2           1.3          0.2     Iris-setosa\n",
       "3             4.6          3.1           1.5          0.2     Iris-setosa\n",
       "4             5.0          3.6           1.4          0.2     Iris-setosa\n",
       "..            ...          ...           ...          ...             ...\n",
       "145           6.7          3.0           5.2          2.3  Iris-virginica\n",
       "146           6.3          2.5           5.0          1.9  Iris-virginica\n",
       "147           6.5          3.0           5.2          2.0  Iris-virginica\n",
       "148           6.2          3.4           5.4          2.3  Iris-virginica\n",
       "149           5.9          3.0           5.1          1.8  Iris-virginica\n",
       "\n",
       "[150 rows x 5 columns]"
      ]
     },
     "execution_count": 4,
     "metadata": {},
     "output_type": "execute_result"
    }
   ],
   "source": [
    "dataset"
   ]
  },
  {
   "cell_type": "code",
   "execution_count": 6,
   "id": "d83aaa21",
   "metadata": {},
   "outputs": [],
   "source": [
    "df=dataset.copy()"
   ]
  },
  {
   "cell_type": "code",
   "execution_count": 7,
   "id": "e3655ddd",
   "metadata": {},
   "outputs": [
    {
     "data": {
      "text/html": [
       "<div>\n",
       "<style scoped>\n",
       "    .dataframe tbody tr th:only-of-type {\n",
       "        vertical-align: middle;\n",
       "    }\n",
       "\n",
       "    .dataframe tbody tr th {\n",
       "        vertical-align: top;\n",
       "    }\n",
       "\n",
       "    .dataframe thead th {\n",
       "        text-align: right;\n",
       "    }\n",
       "</style>\n",
       "<table border=\"1\" class=\"dataframe\">\n",
       "  <thead>\n",
       "    <tr style=\"text-align: right;\">\n",
       "      <th></th>\n",
       "      <th>sepal-length</th>\n",
       "      <th>sepal-width</th>\n",
       "      <th>petal-length</th>\n",
       "      <th>petal-width</th>\n",
       "      <th>Class</th>\n",
       "    </tr>\n",
       "  </thead>\n",
       "  <tbody>\n",
       "    <tr>\n",
       "      <th>0</th>\n",
       "      <td>5.1</td>\n",
       "      <td>3.5</td>\n",
       "      <td>1.4</td>\n",
       "      <td>0.2</td>\n",
       "      <td>Iris-setosa</td>\n",
       "    </tr>\n",
       "    <tr>\n",
       "      <th>1</th>\n",
       "      <td>4.9</td>\n",
       "      <td>3.0</td>\n",
       "      <td>1.4</td>\n",
       "      <td>0.2</td>\n",
       "      <td>Iris-setosa</td>\n",
       "    </tr>\n",
       "    <tr>\n",
       "      <th>2</th>\n",
       "      <td>4.7</td>\n",
       "      <td>3.2</td>\n",
       "      <td>1.3</td>\n",
       "      <td>0.2</td>\n",
       "      <td>Iris-setosa</td>\n",
       "    </tr>\n",
       "    <tr>\n",
       "      <th>3</th>\n",
       "      <td>4.6</td>\n",
       "      <td>3.1</td>\n",
       "      <td>1.5</td>\n",
       "      <td>0.2</td>\n",
       "      <td>Iris-setosa</td>\n",
       "    </tr>\n",
       "    <tr>\n",
       "      <th>4</th>\n",
       "      <td>5.0</td>\n",
       "      <td>3.6</td>\n",
       "      <td>1.4</td>\n",
       "      <td>0.2</td>\n",
       "      <td>Iris-setosa</td>\n",
       "    </tr>\n",
       "    <tr>\n",
       "      <th>...</th>\n",
       "      <td>...</td>\n",
       "      <td>...</td>\n",
       "      <td>...</td>\n",
       "      <td>...</td>\n",
       "      <td>...</td>\n",
       "    </tr>\n",
       "    <tr>\n",
       "      <th>145</th>\n",
       "      <td>6.7</td>\n",
       "      <td>3.0</td>\n",
       "      <td>5.2</td>\n",
       "      <td>2.3</td>\n",
       "      <td>Iris-virginica</td>\n",
       "    </tr>\n",
       "    <tr>\n",
       "      <th>146</th>\n",
       "      <td>6.3</td>\n",
       "      <td>2.5</td>\n",
       "      <td>5.0</td>\n",
       "      <td>1.9</td>\n",
       "      <td>Iris-virginica</td>\n",
       "    </tr>\n",
       "    <tr>\n",
       "      <th>147</th>\n",
       "      <td>6.5</td>\n",
       "      <td>3.0</td>\n",
       "      <td>5.2</td>\n",
       "      <td>2.0</td>\n",
       "      <td>Iris-virginica</td>\n",
       "    </tr>\n",
       "    <tr>\n",
       "      <th>148</th>\n",
       "      <td>6.2</td>\n",
       "      <td>3.4</td>\n",
       "      <td>5.4</td>\n",
       "      <td>2.3</td>\n",
       "      <td>Iris-virginica</td>\n",
       "    </tr>\n",
       "    <tr>\n",
       "      <th>149</th>\n",
       "      <td>5.9</td>\n",
       "      <td>3.0</td>\n",
       "      <td>5.1</td>\n",
       "      <td>1.8</td>\n",
       "      <td>Iris-virginica</td>\n",
       "    </tr>\n",
       "  </tbody>\n",
       "</table>\n",
       "<p>150 rows × 5 columns</p>\n",
       "</div>"
      ],
      "text/plain": [
       "     sepal-length  sepal-width  petal-length  petal-width           Class\n",
       "0             5.1          3.5           1.4          0.2     Iris-setosa\n",
       "1             4.9          3.0           1.4          0.2     Iris-setosa\n",
       "2             4.7          3.2           1.3          0.2     Iris-setosa\n",
       "3             4.6          3.1           1.5          0.2     Iris-setosa\n",
       "4             5.0          3.6           1.4          0.2     Iris-setosa\n",
       "..            ...          ...           ...          ...             ...\n",
       "145           6.7          3.0           5.2          2.3  Iris-virginica\n",
       "146           6.3          2.5           5.0          1.9  Iris-virginica\n",
       "147           6.5          3.0           5.2          2.0  Iris-virginica\n",
       "148           6.2          3.4           5.4          2.3  Iris-virginica\n",
       "149           5.9          3.0           5.1          1.8  Iris-virginica\n",
       "\n",
       "[150 rows x 5 columns]"
      ]
     },
     "execution_count": 7,
     "metadata": {},
     "output_type": "execute_result"
    }
   ],
   "source": [
    "df"
   ]
  },
  {
   "cell_type": "code",
   "execution_count": 8,
   "id": "a111e9c6",
   "metadata": {
    "scrolled": true
   },
   "outputs": [
    {
     "name": "stdout",
     "output_type": "stream",
     "text": [
      "<class 'pandas.core.frame.DataFrame'>\n",
      "RangeIndex: 150 entries, 0 to 149\n",
      "Data columns (total 5 columns):\n",
      " #   Column        Non-Null Count  Dtype  \n",
      "---  ------        --------------  -----  \n",
      " 0   sepal-length  150 non-null    float64\n",
      " 1   sepal-width   150 non-null    float64\n",
      " 2   petal-length  150 non-null    float64\n",
      " 3   petal-width   150 non-null    float64\n",
      " 4   Class         150 non-null    object \n",
      "dtypes: float64(4), object(1)\n",
      "memory usage: 6.0+ KB\n"
     ]
    }
   ],
   "source": [
    "df.info()"
   ]
  },
  {
   "cell_type": "code",
   "execution_count": 37,
   "id": "659080ab",
   "metadata": {},
   "outputs": [],
   "source": [
    "x=df.drop('Class',axis=1)\n",
    "y=df['Class']"
   ]
  },
  {
   "cell_type": "code",
   "execution_count": 38,
   "id": "f019624c",
   "metadata": {},
   "outputs": [],
   "source": [
    "from sklearn.model_selection import train_test_split"
   ]
  },
  {
   "cell_type": "code",
   "execution_count": 39,
   "id": "0ac3948d",
   "metadata": {},
   "outputs": [],
   "source": [
    "x_train,x_test,y_train,y_test=train_test_split(x,y,test_size=0.2, random_state=42)"
   ]
  },
  {
   "cell_type": "code",
   "execution_count": 40,
   "id": "04799901",
   "metadata": {},
   "outputs": [],
   "source": [
    "from sklearn.decomposition import PCA"
   ]
  },
  {
   "cell_type": "code",
   "execution_count": 55,
   "id": "eda2db36",
   "metadata": {},
   "outputs": [],
   "source": [
    "pca = PCA(n_components=2,random_state=0)"
   ]
  },
  {
   "cell_type": "code",
   "execution_count": 56,
   "id": "cd2765a3",
   "metadata": {},
   "outputs": [],
   "source": [
    "x_feature_train=pca.fit_transform(x_train)"
   ]
  },
  {
   "cell_type": "code",
   "execution_count": 57,
   "id": "50fa4c90",
   "metadata": {},
   "outputs": [],
   "source": [
    "x_feature_test=pca.transform(x_test)"
   ]
  },
  {
   "cell_type": "code",
   "execution_count": 58,
   "id": "717029ca",
   "metadata": {},
   "outputs": [
    {
     "data": {
      "text/plain": [
       "array([[-3.17186539,  0.13959658],\n",
       "       [-2.34476845,  1.34616311],\n",
       "       [ 0.97116618,  0.48717842],\n",
       "       [-2.56806407,  0.02449273],\n",
       "       [-2.95205699, -0.33412307],\n",
       "       [ 1.57209503, -0.35611709],\n",
       "       [ 0.97622042,  0.33649622],\n",
       "       [-2.51864264,  0.37833149],\n",
       "       [-2.684914  ,  0.33588705],\n",
       "       [-2.6058472 ,  0.82262514],\n",
       "       [ 1.46097067, -0.55797691],\n",
       "       [ 0.8509521 ,  0.20941679],\n",
       "       [ 1.26422963,  0.42801328],\n",
       "       [-2.58126939,  0.81859379],\n",
       "       [-2.46391446,  0.65577665],\n",
       "       [-0.14343496, -0.66232798],\n",
       "       [ 1.48934477, -0.12209998],\n",
       "       [ 1.94978452,  0.06935085],\n",
       "       [ 0.94380209,  0.34845584],\n",
       "       [ 2.95905972,  0.80156812],\n",
       "       [ 0.42157322, -0.27645378],\n",
       "       [ 3.44052325,  0.5777973 ],\n",
       "       [ 0.70579945, -0.33723213],\n",
       "       [-2.64038049,  0.32925888],\n",
       "       [ 3.54373422,  0.48976056],\n",
       "       [ 0.28181351, -0.31405858],\n",
       "       [-2.59584698,  0.3226307 ],\n",
       "       [-2.72642204,  0.27194487],\n",
       "       [-2.16579678,  0.44592931],\n",
       "       [-0.4604182 , -1.24931633],\n",
       "       [ 1.43344026, -0.18555036],\n",
       "       [-2.31069692, -0.02643101],\n",
       "       [-2.46182763, -0.13411437],\n",
       "       [-2.25875503,  0.1082602 ],\n",
       "       [ 0.40279385, -0.48785173],\n",
       "       [-2.54600672,  0.23960892],\n",
       "       [ 0.37729222, -0.19553701],\n",
       "       [ 3.52927971,  1.20003155],\n",
       "       [-2.79437035, -0.21900326],\n",
       "       [ 0.68710627,  0.03680764],\n",
       "       [ 1.39209854, -0.76064168],\n",
       "       [-2.55667827,  1.10217531],\n",
       "       [ 1.21405069, -0.14869125],\n",
       "       [ 1.46097067, -0.55797691],\n",
       "       [ 0.31084561, -0.52836648],\n",
       "       [ 0.63390186, -0.46932653],\n",
       "       [ 1.94482522,  0.13105022],\n",
       "       [ 0.22960579, -0.81065128],\n",
       "       [-2.23811319,  0.75069546],\n",
       "       [-0.65775044, -0.99734103],\n",
       "       [ 1.84824156, -0.19564288],\n",
       "       [-2.65915986,  0.11786092],\n",
       "       [-2.82215325,  0.07913471],\n",
       "       [-0.02194961, -0.68754396],\n",
       "       [ 1.60157408,  0.28793138],\n",
       "       [-2.62784648, -0.10227022],\n",
       "       [ 1.63086744, -0.52650849],\n",
       "       [-2.58195552,  0.17356172],\n",
       "       [-2.361966  ,  0.19629695],\n",
       "       [ 1.16093247, -0.06938769],\n",
       "       [-0.86064191, -0.74326072],\n",
       "       [ 2.47100338,  0.39710612],\n",
       "       [ 1.42577938, -0.40115834],\n",
       "       [ 1.82786554, -0.47617665],\n",
       "       [ 3.11891939,  0.71223463],\n",
       "       [ 0.21243637, -0.66530052],\n",
       "       [-2.84051381, -0.56912379],\n",
       "       [-3.17811076, -0.50333047],\n",
       "       [ 1.34721759, -0.73931926],\n",
       "       [ 2.65773545,  0.58553092],\n",
       "       [-2.69999658, -0.30865321],\n",
       "       [-2.60468419,  0.32101749],\n",
       "       [-2.93488757, -0.47947383],\n",
       "       [ 1.3435208 , -0.30617694],\n",
       "       [ 2.18804841,  0.15490686],\n",
       "       [-2.77584347, -0.08189389],\n",
       "       [ 2.20925331,  0.23614011],\n",
       "       [ 2.57548562,  0.00609177],\n",
       "       [-2.8442106 , -0.13598147],\n",
       "       [ 1.03000996, -0.10537928],\n",
       "       [ 1.13229711,  0.09486733],\n",
       "       [ 1.30311771, -0.1619476 ],\n",
       "       [ 1.32779502,  0.70707165],\n",
       "       [ 1.94810319,  0.13476845],\n",
       "       [-2.49455652,  0.51333584],\n",
       "       [ 2.15082835,  0.39183727],\n",
       "       [ 0.5562787 , -0.08816678],\n",
       "       [ 1.80834347,  0.09716364],\n",
       "       [-0.26028488, -0.35093366],\n",
       "       [ 0.0373278 , -0.70935818],\n",
       "       [ 0.9356362 , -0.01572932],\n",
       "       [-2.8031495 , -0.93039566],\n",
       "       [ 1.08826861,  0.25007269],\n",
       "       [ 0.51131156, -0.65228209],\n",
       "       [-2.49986326,  0.58972945],\n",
       "       [ 0.29125066, -0.25285102],\n",
       "       [ 2.97680553,  0.38262824],\n",
       "       [ 2.31912848,  0.35416987],\n",
       "       [-2.50036827,  0.44115227],\n",
       "       [-0.70228395, -0.99071285],\n",
       "       [ 2.46191366,  0.32120431],\n",
       "       [ 2.43193418,  0.49061211],\n",
       "       [-2.62784648, -0.10227022],\n",
       "       [ 2.35759774,  0.20106953],\n",
       "       [-2.66935453, -0.16621241],\n",
       "       [ 1.50770532,  0.52615852],\n",
       "       [ 2.88545723,  0.40170784],\n",
       "       [ 2.01679419, -0.15902168],\n",
       "       [ 0.34436888, -0.33215457],\n",
       "       [ 1.99431803,  0.06272268],\n",
       "       [ 0.86035238, -0.35017201],\n",
       "       [ 0.75900386,  0.16890204],\n",
       "       [ 1.24460656, -0.59168816],\n",
       "       [ 1.43546904, -0.26566219],\n",
       "       [-2.26658223,  0.40380135],\n",
       "       [ 0.40237503, -0.05099119],\n",
       "       [ 0.56847401, -1.1794222 ],\n",
       "       [-2.60324055,  1.18891533],\n",
       "       [ 0.27600176, -0.38624216],\n",
       "       [ 2.66025591,  0.36638338]])"
      ]
     },
     "execution_count": 58,
     "metadata": {},
     "output_type": "execute_result"
    }
   ],
   "source": [
    "x_feature_train"
   ]
  },
  {
   "cell_type": "code",
   "execution_count": 59,
   "id": "d216d6a7",
   "metadata": {},
   "outputs": [
    {
     "data": {
      "text/plain": [
       "array([[ 0.96720208, -0.16157188],\n",
       "       [-2.15737838,  0.88440307],\n",
       "       [ 3.83957063,  0.28573647],\n",
       "       [ 0.85817936, -0.14571871],\n",
       "       [ 1.37602531,  0.26730116],\n",
       "       [-2.36676774,  0.42126774],\n",
       "       [-0.12910987, -0.24065349],\n",
       "       [ 1.96485379,  0.42627823],\n",
       "       [ 0.99016993, -0.52235194],\n",
       "       [ 0.181628  , -0.2965922 ],\n",
       "       [ 1.705385  ,  0.25948898],\n",
       "       [-2.74099962, -0.22401822],\n",
       "       [-2.58237434,  0.61042226],\n",
       "       [-2.62784648, -0.10227022],\n",
       "       [-2.54464927,  0.52206903],\n",
       "       [ 1.13896131,  0.30093385],\n",
       "       [ 2.39447036, -0.02116663],\n",
       "       [ 0.09120353, -0.56579596],\n",
       "       [ 0.68752508, -0.4000529 ],\n",
       "       [ 2.20411289, -0.19861542],\n",
       "       [-2.58684345, -0.18690522],\n",
       "       [ 1.33578853, -0.09961863],\n",
       "       [-2.42477388,  0.14010435],\n",
       "       [ 2.16841659, -0.19037403],\n",
       "       [ 3.27241756,  1.39953247],\n",
       "       [ 1.98732996,  0.20453387],\n",
       "       [ 2.36650633, -0.21948355],\n",
       "       [ 2.60663268,  0.29710975],\n",
       "       [-2.66960703, -0.240501  ],\n",
       "       [-2.54230994, -0.1935334 ]])"
      ]
     },
     "execution_count": 59,
     "metadata": {},
     "output_type": "execute_result"
    }
   ],
   "source": [
    "x_feature_test"
   ]
  },
  {
   "cell_type": "code",
   "execution_count": 60,
   "id": "1eeb85f1",
   "metadata": {},
   "outputs": [
    {
     "data": {
      "text/plain": [
       "array([0.9195717 , 0.05707944])"
      ]
     },
     "execution_count": 60,
     "metadata": {},
     "output_type": "execute_result"
    }
   ],
   "source": [
    "pca.explained_variance_ratio_"
   ]
  },
  {
   "cell_type": "code",
   "execution_count": 61,
   "id": "71ead38b",
   "metadata": {},
   "outputs": [
    {
     "data": {
      "text/plain": [
       "array([22.22153965,  5.53632026])"
      ]
     },
     "execution_count": 61,
     "metadata": {},
     "output_type": "execute_result"
    }
   ],
   "source": [
    "pca.singular_values_"
   ]
  },
  {
   "cell_type": "code",
   "execution_count": 62,
   "id": "825b2d84",
   "metadata": {},
   "outputs": [],
   "source": [
    "from sklearn.ensemble import RandomForestClassifier"
   ]
  },
  {
   "cell_type": "code",
   "execution_count": 63,
   "id": "db13cec4",
   "metadata": {},
   "outputs": [],
   "source": [
    "clf = RandomForestClassifier(max_depth=2, random_state=0)"
   ]
  },
  {
   "cell_type": "code",
   "execution_count": 64,
   "id": "3b65c3a6",
   "metadata": {},
   "outputs": [
    {
     "data": {
      "text/plain": [
       "RandomForestClassifier(max_depth=2, random_state=0)"
      ]
     },
     "execution_count": 64,
     "metadata": {},
     "output_type": "execute_result"
    }
   ],
   "source": [
    "clf.fit(x_feature_train, y_train)"
   ]
  },
  {
   "cell_type": "code",
   "execution_count": 65,
   "id": "52f7fab1",
   "metadata": {},
   "outputs": [],
   "source": [
    "y_predict=clf.predict(x_feature_test)"
   ]
  },
  {
   "cell_type": "code",
   "execution_count": 66,
   "id": "cc5e4590",
   "metadata": {},
   "outputs": [],
   "source": [
    "from sklearn.metrics import accuracy_score"
   ]
  },
  {
   "cell_type": "code",
   "execution_count": 67,
   "id": "47daccd5",
   "metadata": {},
   "outputs": [
    {
     "data": {
      "text/plain": [
       "0.9333333333333333"
      ]
     },
     "execution_count": 67,
     "metadata": {},
     "output_type": "execute_result"
    }
   ],
   "source": [
    "accuracy_score(y_test, y_predict)"
   ]
  },
  {
   "cell_type": "code",
   "execution_count": null,
   "id": "0fd6524f",
   "metadata": {},
   "outputs": [],
   "source": []
  }
 ],
 "metadata": {
  "kernelspec": {
   "display_name": "Python 3 (ipykernel)",
   "language": "python",
   "name": "python3"
  },
  "language_info": {
   "codemirror_mode": {
    "name": "ipython",
    "version": 3
   },
   "file_extension": ".py",
   "mimetype": "text/x-python",
   "name": "python",
   "nbconvert_exporter": "python",
   "pygments_lexer": "ipython3",
   "version": "3.9.13"
  }
 },
 "nbformat": 4,
 "nbformat_minor": 5
}
